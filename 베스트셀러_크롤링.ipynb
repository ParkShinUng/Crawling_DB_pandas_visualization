{
 "cells": [
  {
   "cell_type": "markdown",
   "metadata": {},
   "source": [
    "### 베스트셀러 도서 저렴하게 구매하기 위한 미니 프로젝트\n",
    "\n",
    "* 1. 알라딘 사이트에서 베스트셀러 책 이름 가져오기\n",
    "* 2. 알라딘 온라인 중고서점에서 베스트셀러 책 검색 후 결과 가져오기\n",
    "* 3. 위 2개를 이용해 베스트셀러 저렴히 구매"
   ]
  },
  {
   "cell_type": "code",
   "execution_count": 1,
   "metadata": {},
   "outputs": [],
   "source": [
    "# 알라딘 사이트에서 베스트 셀러 책 이름 가져오기\n",
    "import requests\n",
    "from bs4 import BeautifulSoup\n",
    "\n",
    "def get_bestseller():\n",
    "    best_seller_list = []\n",
    "    \n",
    "    req_url = 'https://www.aladin.co.kr/shop/common/wbest.aspx?BranchType=1&start=we'\n",
    "\n",
    "    res = requests.get(req_url)\n",
    "    print(res.status_code)\n",
    "\n",
    "    if res.ok:\n",
    "        soup = BeautifulSoup(res.text, 'html.parser')\n",
    "\n",
    "        a_list = soup.select('div.ss_book_list ul li a.bo3')\n",
    "\n",
    "        for a_tag in a_list:\n",
    "            best_seller_list.append(a_tag.text)\n",
    "            \n",
    "    return best_seller_list"
   ]
  },
  {
   "cell_type": "code",
   "execution_count": 7,
   "metadata": {},
   "outputs": [
    {
     "name": "stdout",
     "output_type": "stream",
     "text": [
      "200\n"
     ]
    },
    {
     "data": {
      "text/plain": [
       "['어떻게 말해줘야 할까',\n",
       " '달러구트 꿈 백화점',\n",
       " '송나라에 간 고양이',\n",
       " '트렌드 코리아 2021',\n",
       " '쉬운 천국',\n",
       " '마음챙김의 시',\n",
       " '나의 하루는 4시 30분에 시작된다',\n",
       " '읽기만 하면 내 것이 되는 1페이지 미술 365',\n",
       " '방구석 미술관 2 : 한국',\n",
       " '설민석의 한국사 대모험 15',\n",
       " '다산의 마지막 습관',\n",
       " '보건교사 안은영 (특별판)',\n",
       " '돈의 속성 (100쇄 기념 에디션, 양장)',\n",
       " '아이를 위한 돈의 감각',\n",
       " '흔한남매 6',\n",
       " '존리의 금융문맹 탈출',\n",
       " '고양이 해결사 깜냥 2',\n",
       " '자유론',\n",
       " '이토록 공부가 재미있어지는 순간 (10만 부 기념 스페셜 에디션)',\n",
       " '추리소설가의 살인사건',\n",
       " '걸어 다니는 어원 사전',\n",
       " '거울명상',\n",
       " '습관의 디테일',\n",
       " '매우 예민한 사람들을 위한 책',\n",
       " '세계미래보고서 2021 (포스트 코로나 특별판)',\n",
       " '비의도적 연애담 3',\n",
       " '비의도적 연애담 1',\n",
       " '조지프 크리스천 레이엔데커 삽화 작품집',\n",
       " '아무것도 안 하는 녀석들',\n",
       " '비의도적 연애담 2',\n",
       " '초3보다 중요한 학년은 없습니다',\n",
       " '명랑한 은둔자',\n",
       " '부지런한 사랑',\n",
       " '비밀의 보석 가게 마석관 1',\n",
       " '그럼에도 불구하고',\n",
       " '에그박사 2',\n",
       " '공정하다는 착각',\n",
       " 'ETS 토익 정기시험 기출문제집 1000 Vol. 2 Reading (리딩)',\n",
       " '알프레드 아들러',\n",
       " '손글씨 레시피',\n",
       " 'ETS 토익 정기시험 기출문제집 1000 Vol. 2 Listening (리스닝)',\n",
       " '해커스 토익 기출 보카 TOEIC VOCA 단어장',\n",
       " '주술회전 9',\n",
       " '빛의 현관',\n",
       " '시선으로부터,',\n",
       " '연년세세',\n",
       " '부의 골든타임',\n",
       " '후츠파',\n",
       " '진보는 어떻게 몰락하는가',\n",
       " '노견일기 4']"
      ]
     },
     "execution_count": 7,
     "metadata": {},
     "output_type": "execute_result"
    }
   ],
   "source": [
    "get_bestseller()"
   ]
  },
  {
   "cell_type": "markdown",
   "metadata": {},
   "source": [
    "#### 알라딘 온라인 중고서점에서 베스트셀러 책 검색 후 결과 가져오기\n",
    "* 1. get_bestseller()로 베스트 셀러 리스트 가져오기\n",
    "* 2. 알라딘 url 접속\n",
    "* 3. 온라인중고샵 클릭\n",
    "* 4. 리스트에서 데이터를 하나씩 추출하여 입력\n",
    "* 5. 검색 버튼 클릭\n",
    "* 6. 책 이름, 글쓴이, 발매일, 가격 데이터프레임에 저장"
   ]
  },
  {
   "cell_type": "code",
   "execution_count": 31,
   "metadata": {},
   "outputs": [
    {
     "name": "stdout",
     "output_type": "stream",
     "text": [
      "200\n",
      "1 번째 실행중\n",
      "[<selenium.webdriver.remote.webelement.WebElement (session=\"f8376d45d538be2440ff06aa13f39ab7\", element=\"b04587fa-36c0-4f57-9041-6ec33512b346\")>, <selenium.webdriver.remote.webelement.WebElement (session=\"f8376d45d538be2440ff06aa13f39ab7\", element=\"8d5105c7-ec36-432e-b2f2-4d9b5a175f65\")>]\n"
     ]
    },
    {
     "ename": "TypeError",
     "evalue": "'WebElement' object is not subscriptable",
     "output_type": "error",
     "traceback": [
      "\u001b[1;31m---------------------------------------------------------------------------\u001b[0m",
      "\u001b[1;31mTypeError\u001b[0m                                 Traceback (most recent call last)",
      "\u001b[1;32m<ipython-input-31-803765fc044b>\u001b[0m in \u001b[0;36m<module>\u001b[1;34m\u001b[0m\n\u001b[0;32m     56\u001b[0m     \u001b[1;32mreturn\u001b[0m \u001b[0mbook_detail_list\u001b[0m\u001b[1;33m\u001b[0m\u001b[1;33m\u001b[0m\u001b[0m\n\u001b[0;32m     57\u001b[0m \u001b[1;33m\u001b[0m\u001b[0m\n\u001b[1;32m---> 58\u001b[1;33m \u001b[0mget_bestseller_result\u001b[0m\u001b[1;33m(\u001b[0m\u001b[1;33m)\u001b[0m\u001b[1;33m\u001b[0m\u001b[1;33m\u001b[0m\u001b[0m\n\u001b[0m",
      "\u001b[1;32m<ipython-input-31-803765fc044b>\u001b[0m in \u001b[0;36mget_bestseller_result\u001b[1;34m()\u001b[0m\n\u001b[0;32m     43\u001b[0m             \u001b[1;31m# 중고 가격\u001b[0m\u001b[1;33m\u001b[0m\u001b[1;33m\u001b[0m\u001b[1;33m\u001b[0m\u001b[0m\n\u001b[0;32m     44\u001b[0m             \u001b[0mtr_tag_list\u001b[0m \u001b[1;33m=\u001b[0m \u001b[0mdriver\u001b[0m\u001b[1;33m.\u001b[0m\u001b[0mfind_elements_by_css_selector\u001b[0m\u001b[1;33m(\u001b[0m\u001b[1;34m'table.usedtable02 tbody tr'\u001b[0m\u001b[1;33m)\u001b[0m\u001b[1;33m[\u001b[0m\u001b[1;36m1\u001b[0m\u001b[1;33m]\u001b[0m\u001b[1;33m\u001b[0m\u001b[1;33m\u001b[0m\u001b[0m\n\u001b[1;32m---> 45\u001b[1;33m             \u001b[0mtd_tag_list\u001b[0m \u001b[1;33m=\u001b[0m \u001b[0mtr_tag_list\u001b[0m\u001b[1;33m[\u001b[0m\u001b[1;36m1\u001b[0m\u001b[1;33m]\u001b[0m\u001b[1;33m.\u001b[0m\u001b[0mfind_elements_by_css_selector\u001b[0m\u001b[1;33m(\u001b[0m\u001b[1;34m'td'\u001b[0m\u001b[1;33m)\u001b[0m\u001b[1;33m\u001b[0m\u001b[1;33m\u001b[0m\u001b[0m\n\u001b[0m\u001b[0;32m     46\u001b[0m \u001b[1;33m\u001b[0m\u001b[0m\n\u001b[0;32m     47\u001b[0m             \u001b[1;32mif\u001b[0m \u001b[1;32mnot\u001b[0m \u001b[0mtd_tag_list\u001b[0m\u001b[1;33m[\u001b[0m\u001b[1;36m2\u001b[0m\u001b[1;33m]\u001b[0m\u001b[1;33m:\u001b[0m\u001b[1;33m\u001b[0m\u001b[1;33m\u001b[0m\u001b[0m\n",
      "\u001b[1;31mTypeError\u001b[0m: 'WebElement' object is not subscriptable"
     ]
    }
   ],
   "source": [
    "# 알라딘 온라인 중고서점에서 베스트셀러 책 검색 후 결과 가져오기\n",
    "import requests\n",
    "from selenium import webdriver\n",
    "from bs4 import BeautifulSoup\n",
    "\n",
    "def get_bestseller_result():\n",
    "    req_url = 'https://www.aladin.co.kr/home/wusedshopmain.aspx?start=we_tab'\n",
    "    best_sellers_list = get_bestseller()\n",
    "    \n",
    "    driver = webdriver.Chrome('../../week1/day1/python_webscaping_datascience/python_webscaping_datascience/chromedriver')\n",
    "    driver.implicitly_wait(3)\n",
    "    driver.get(req_url)\n",
    "    \n",
    "    book_detail_list = []\n",
    "    for idx, best_seller in enumerate(best_sellers_list[:10],1):\n",
    "        print(f'{idx} 번째 실행중')\n",
    "        book_detail_dict = {}\n",
    "        search_tag = driver.find_element_by_css_selector('input#SearchWord')\n",
    "        search_tag.clear()\n",
    "        search_tag.send_keys(best_seller)\n",
    "\n",
    "        driver.find_element_by_css_selector('input.searchBtn').click()\n",
    "        \n",
    "        li_tag = driver.find_elements_by_css_selector('div.ss_book_list ul li')\n",
    "        print(li_tag)           \n",
    "        \n",
    "        if not li_tag:\n",
    "            book_detail_dict['title'] = best_seller\n",
    "            # pub 관련 텍스트\n",
    "            book_detail_dict['publisher'] = None\n",
    "            book_detail_dict['pubdate'] = None\n",
    "            # 중고 가격\n",
    "            book_detail_dict['price'] = None\n",
    "        else:\n",
    "            # 제목\n",
    "            book_detail_dict['title'] = li_tag[0].find_element_by_css_selector('a.bo3').text\n",
    "            # pub 관련 텍스트\n",
    "            pup_atag = li_tag[1].find_elements_by_css_selector('a')\n",
    "            book_detail_dict['publisher'] = pup_atag[0].text\n",
    "            book_detail_dict['pubdate'] = pup_atag[1].text\n",
    "            # 중고 가격\n",
    "            if not td_tag_list[2]:\n",
    "                book_detail_dict['price'] = None\n",
    "            else:\n",
    "                book_detail_dict['price'] = price\n",
    "                \n",
    "        book_detail_list.append(book_detail_dict)\n",
    "        \n",
    "        driver.implicitly_wait(2)\n",
    "        \n",
    "    return book_detail_list\n",
    "\n",
    "get_bestseller_result()"
   ]
  },
  {
   "cell_type": "code",
   "execution_count": null,
   "metadata": {},
   "outputs": [],
   "source": [
    "# 위 2개를 이용하여 베스트셀러 저렴히 구매"
   ]
  }
 ],
 "metadata": {
  "kernelspec": {
   "display_name": "Python 3",
   "language": "python",
   "name": "python3"
  },
  "language_info": {
   "codemirror_mode": {
    "name": "ipython",
    "version": 3
   },
   "file_extension": ".py",
   "mimetype": "text/x-python",
   "name": "python",
   "nbconvert_exporter": "python",
   "pygments_lexer": "ipython3",
   "version": "3.8.3"
  }
 },
 "nbformat": 4,
 "nbformat_minor": 4
}
